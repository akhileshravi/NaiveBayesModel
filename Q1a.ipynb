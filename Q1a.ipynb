{
 "cells": [
  {
   "cell_type": "code",
   "execution_count": 1,
   "metadata": {},
   "outputs": [],
   "source": [
    "import pandas as pd\n",
    "import numpy as np"
   ]
  },
  {
   "cell_type": "code",
   "execution_count": 5,
   "metadata": {},
   "outputs": [],
   "source": [
    "from sklearn.model_selection import train_test_split"
   ]
  },
  {
   "cell_type": "code",
   "execution_count": 2,
   "metadata": {},
   "outputs": [],
   "source": [
    "df = pd.read_csv('iris.csv')"
   ]
  },
  {
   "cell_type": "code",
   "execution_count": 26,
   "metadata": {},
   "outputs": [
    {
     "data": {
      "text/plain": [
       "sepal_length                5.5\n",
       "sepal_width                 2.4\n",
       "petal_length                3.8\n",
       "petal_width                 1.1\n",
       "species         Iris-versicolor\n",
       "Name: 80, dtype: object"
      ]
     },
     "execution_count": 26,
     "metadata": {},
     "output_type": "execute_result"
    }
   ],
   "source": [
    "df.keys()"
   ]
  },
  {
   "cell_type": "code",
   "execution_count": 13,
   "metadata": {},
   "outputs": [],
   "source": [
    "X = df.sample(frac=1, random_state=42).reset_index(drop=True)\n",
    "y = X['species']\n",
    "del X['species']"
   ]
  },
  {
   "cell_type": "code",
   "execution_count": 14,
   "metadata": {},
   "outputs": [
    {
     "data": {
      "text/plain": [
       "150"
      ]
     },
     "execution_count": 14,
     "metadata": {},
     "output_type": "execute_result"
    }
   ],
   "source": [
    "length = len(X)\n",
    "train_X, train_y = X[:int(0.1*length)], y[:int(0.1*length)]\n",
    "pool_X, pool_y = X[int(0.1*length):int(0.7*length)], y[int(0.1*length):int(0.7*length)]\n",
    "test_X, test_y = X[int(0.7*length):], y[int(0.7*length):]\n",
    "length"
   ]
  },
  {
   "cell_type": "code",
   "execution_count": 29,
   "metadata": {},
   "outputs": [
    {
     "data": {
      "text/plain": [
       "sepal_length    5.006\n",
       "sepal_width     3.418\n",
       "petal_length    1.464\n",
       "petal_width     0.244\n",
       "dtype: float64"
      ]
     },
     "execution_count": 29,
     "metadata": {},
     "output_type": "execute_result"
    }
   ],
   "source": [
    "classes = np.unique(y)\n",
    "classes\n",
    "np.mean(df[df['species']=='Iris-setosa'])"
   ]
  },
  {
   "cell_type": "code",
   "execution_count": 31,
   "metadata": {},
   "outputs": [],
   "source": [
    "def train_parameters(train_X, train_y, classes):\n",
    "    mean = {}\n",
    "    var = {}\n",
    "    train = train_X.copy()\n",
    "    train['species'] = train_y\n",
    "    for c in classes:\n",
    "        mean[c] = np.mean(train[train['species'] == c])\n",
    "        var[c] = np.var(train[train['species'] == c])\n",
    "    return mean, var"
   ]
  },
  {
   "cell_type": "code",
   "execution_count": 34,
   "metadata": {},
   "outputs": [
    {
     "data": {
      "text/plain": [
       "{'Iris-setosa': sepal_length    0.105556\n",
       " sepal_width     0.095556\n",
       " petal_length    0.014722\n",
       " petal_width     0.012222\n",
       " dtype: float64, 'Iris-versicolor': sepal_length    0.141389\n",
       " sepal_width     0.058056\n",
       " petal_length    0.188889\n",
       " petal_width     0.015833\n",
       " dtype: float64, 'Iris-virginica': sepal_length    0.248889\n",
       " sepal_width     0.068889\n",
       " petal_length    0.720000\n",
       " petal_width     0.020000\n",
       " dtype: float64}"
      ]
     },
     "execution_count": 34,
     "metadata": {},
     "output_type": "execute_result"
    }
   ],
   "source": [
    "mean, var = train_parameters(train_X, train_y, classes)"
   ]
  },
  {
   "cell_type": "code",
   "execution_count": null,
   "metadata": {},
   "outputs": [],
   "source": [
    "def feature_probability(obs, mean, var):\n",
    "    "
   ]
  }
 ],
 "metadata": {
  "kernelspec": {
   "display_name": "Python 3",
   "language": "python",
   "name": "python3"
  },
  "language_info": {
   "codemirror_mode": {
    "name": "ipython",
    "version": 3
   },
   "file_extension": ".py",
   "mimetype": "text/x-python",
   "name": "python",
   "nbconvert_exporter": "python",
   "pygments_lexer": "ipython3",
   "version": "3.6.7"
  }
 },
 "nbformat": 4,
 "nbformat_minor": 2
}
